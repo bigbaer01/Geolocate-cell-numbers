{
  "nbformat": 4,
  "nbformat_minor": 0,
  "metadata": {
    "colab": {
      "provenance": []
    },
    "kernelspec": {
      "name": "python3",
      "display_name": "Python 3"
    },
    "language_info": {
      "name": "python"
    }
  },
  "cells": [
    {
      "cell_type": "code",
      "source": [],
      "metadata": {
        "id": "qZlJbHMOKYCt"
      },
      "execution_count": null,
      "outputs": []
    },
    {
      "cell_type": "code",
      "execution_count": 1,
      "metadata": {
        "colab": {
          "base_uri": "https://localhost:8080/"
        },
        "id": "qMqQ7J01KH6w",
        "outputId": "ce24aa4b-3a0f-4701-bc80-f5502a29bd25"
      },
      "outputs": [
        {
          "output_type": "stream",
          "name": "stdout",
          "text": [
            "Collecting phonenumbers\n",
            "  Downloading phonenumbers-8.13.29-py2.py3-none-any.whl (2.6 MB)\n",
            "\u001b[2K     \u001b[90m━━━━━━━━━━━━━━━━━━━━━━━━━━━━━━━━━━━━━━━━\u001b[0m \u001b[32m2.6/2.6 MB\u001b[0m \u001b[31m10.8 MB/s\u001b[0m eta \u001b[36m0:00:00\u001b[0m\n",
            "\u001b[?25hInstalling collected packages: phonenumbers\n",
            "Successfully installed phonenumbers-8.13.29\n"
          ]
        }
      ],
      "source": [
        "pip install phonenumbers\n"
      ]
    },
    {
      "cell_type": "markdown",
      "source": [
        "Create a phone number to start the search"
      ],
      "metadata": {
        "id": "MgPxCQutKx3X"
      }
    },
    {
      "cell_type": "code",
      "source": [
        "Trace_number = \"+17542104553\"\n",
        "\n",
        "import phonenumbers\n",
        "from phonenumbers import geocoder\n",
        "ch_num = phonenumbers.parse(Trace_number, \"CH\")\n",
        "print(geocoder.description_for_number(ch_num, \"en\"))\n"
      ],
      "metadata": {
        "colab": {
          "base_uri": "https://localhost:8080/"
        },
        "id": "GKvlsB-YLMQx",
        "outputId": "b7fe55e0-82a2-4236-8dfa-66cb5373b034"
      },
      "execution_count": 4,
      "outputs": [
        {
          "output_type": "stream",
          "name": "stdout",
          "text": [
            "Florida\n"
          ]
        }
      ]
    },
    {
      "cell_type": "markdown",
      "source": [
        "CH = county history;\n",
        "en = language \"English\""
      ],
      "metadata": {
        "id": "bcNpU_5nPCrD"
      }
    },
    {
      "cell_type": "code",
      "source": [
        "Find the service provider"
      ],
      "metadata": {
        "id": "_v7OTpT3N7Zt"
      },
      "execution_count": null,
      "outputs": []
    },
    {
      "cell_type": "code",
      "source": [
        "from phonenumbers import carrier\n",
        "ch_num = phonenumbers.parse(Trace_number, \"RO\")\n",
        "print(carrier.name_for_number(ch_num, \"en\"))\n",
        "\n"
      ],
      "metadata": {
        "colab": {
          "base_uri": "https://localhost:8080/"
        },
        "id": "QpWgf_wMOCl0",
        "outputId": "c6e8a8c9-d48f-4a3d-c2a3-d89f4c33d9a7"
      },
      "execution_count": 8,
      "outputs": [
        {
          "output_type": "stream",
          "name": "stdout",
          "text": [
            "\n"
          ]
        }
      ]
    }
  ]
}